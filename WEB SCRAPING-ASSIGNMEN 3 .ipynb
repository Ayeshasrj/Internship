{
 "cells": [
  {
   "cell_type": "markdown",
   "id": "1d660959",
   "metadata": {},
   "source": [
    "1. Write a python program which searches all the product under a particular product from www.amazon.in. The \n",
    "product to be searched will be taken as input from user. For e.g. If user input is ‘guitar’. Then search for \n",
    "guitars. \n"
   ]
  },
  {
   "cell_type": "code",
   "execution_count": null,
   "id": "2158fba8",
   "metadata": {},
   "outputs": [],
   "source": [
    "!pip install selenium\n"
   ]
  },
  {
   "cell_type": "code",
   "execution_count": 2,
   "id": "004696e6",
   "metadata": {},
   "outputs": [],
   "source": [
    "import selenium\n",
    "import pandas as pd\n",
    "from selenium import webdriver\n",
    "import warnings\n",
    "warnings.filterwarnings('ignore')\n",
    "from selenium.common.exceptions import StaleElementReferenceException, NoSuchElementException\n",
    "from selenium.webdriver.common.by import By\n",
    "from selenium.webdriver.common.keys import Keys\n",
    "import time\n"
   ]
  },
  {
   "cell_type": "code",
   "execution_count": null,
   "id": "6c58a336",
   "metadata": {},
   "outputs": [],
   "source": [
    "driver=webdriver.Chrome(r\"chromedriver.exe\")\n"
   ]
  },
  {
   "cell_type": "code",
   "execution_count": null,
   "id": "f230fe94",
   "metadata": {},
   "outputs": [],
   "source": [
    "driver.get(\"https://www.amazon.in\")\n"
   ]
  },
  {
   "cell_type": "code",
   "execution_count": null,
   "id": "5c6a4e09",
   "metadata": {},
   "outputs": [],
   "source": [
    "buy=driver.find_element(By.XPATH,'/html/body/div[1]/header/div/div[1]/div[2]/div/form/div[2]/div[1]/input')\n",
    "buy.send_keys('jeans for women')\n"
   ]
  },
  {
   "cell_type": "code",
   "execution_count": null,
   "id": "312a267f",
   "metadata": {},
   "outputs": [],
   "source": [
    "search=driver.find_element(By.XPATH,'/html/body/div[1]/header/div/div[1]/div[2]/div/form/div[3]/div')\n",
    "search.click()\n"
   ]
  },
  {
   "cell_type": "markdown",
   "id": "3b099a8a",
   "metadata": {},
   "source": [
    "2)In the above question, now scrape the following details of each product listed in first 3 pages of your search\n",
    "results and save it in a data frame and csv. In case if any product has less than 3 pages in search results then scrape all the products available under that product name. Details to be scraped are: \"Brand Name\", \"Name of the Product\", \"Price\", \"Return/Exchange\", \"Expected Delivery\", \"Availability\" and “Product URL”. In case, if any of the details are missing for any of the product then replace it by “-“.\n",
    "\n"
   ]
  },
  {
   "cell_type": "code",
   "execution_count": null,
   "id": "87c0b69a",
   "metadata": {},
   "outputs": [],
   "source": [
    "product_link=[]\n",
    "\n",
    "start=0\n",
    "end=3\n",
    "\n",
    "for page in range(start,end):\n",
    "    url=driver.find_elements(By.XPATH,'//a[@class=\"a-link-normal s-no-outline\"]')\n",
    "    for i in url:\n",
    "        product_link.append(i.get_attribute('href'))\n",
    "    next_button=driver.find_elements(By.XPATH,'//a[@class=\"s-pagination-item s-pagination-next s-pagination-button s-pagination-separator\"]')\n"
   ]
  },
  {
   "cell_type": "code",
   "execution_count": null,
   "id": "8dbd5344",
   "metadata": {},
   "outputs": [],
   "source": [
    "len(product_link)\n"
   ]
  },
  {
   "cell_type": "code",
   "execution_count": null,
   "id": "3953467a",
   "metadata": {},
   "outputs": [],
   "source": [
    "RE=[]\n",
    "\n",
    "for i in product_link:\n",
    "    driver.get(i)\n",
    "    try:\n",
    "        return_exchange=driver.find_element(By.XPATH,'//a[@class=\"a-size-small a-link-normal a-text-normal\"]')\n",
    "        RE.append(return_exchange.text)\n",
    "    except NoSuchElementException :\n",
    "        RE.append('-')\n"
   ]
  },
  {
   "cell_type": "code",
   "execution_count": null,
   "id": "0fba0656",
   "metadata": {},
   "outputs": [],
   "source": [
    "len(RE)\n"
   ]
  },
  {
   "cell_type": "code",
   "execution_count": null,
   "id": "14e96201",
   "metadata": {},
   "outputs": [],
   "source": [
    "ED=[]\n",
    "\n",
    "for i in product_link:\n",
    "    driver.get(i)\n",
    "    try:\n",
    "        expected_delivery=driver.find_element(By.XPATH,'//span[@class=\"a-text-bold\"]')\n",
    "        ED.append(expected_delivery.text)\n",
    "    except NoSuchElementException :\n",
    "        ED.append('-')\n"
   ]
  },
  {
   "cell_type": "code",
   "execution_count": null,
   "id": "8949fcf0",
   "metadata": {},
   "outputs": [],
   "source": [
    "len(ED)\n"
   ]
  },
  {
   "cell_type": "code",
   "execution_count": null,
   "id": "ac880365",
   "metadata": {},
   "outputs": [],
   "source": [
    "AV=[]\n",
    "\n",
    "for i in product_link:\n",
    "    driver.get(i)\n",
    "    try:\n",
    "        available=driver.find_element(By.XPATH,'//span[@class=\"a-size-medium a-color-success\"]')\n",
    "        AV.append(available.text)\n",
    "    except NoSuchElementException :\n",
    "        AV.append('-')\n"
   ]
  },
  {
   "cell_type": "code",
   "execution_count": null,
   "id": "1047d47a",
   "metadata": {},
   "outputs": [],
   "source": [
    "len(AV)\n"
   ]
  },
  {
   "cell_type": "code",
   "execution_count": null,
   "id": "f92a9fff",
   "metadata": {},
   "outputs": [],
   "source": [
    "NP=[]\n",
    "\n",
    "for i in product_link:\n",
    "    driver.get(i)\n",
    "    try:\n",
    "        product=driver.find_element(By.XPATH,'//span[@class=\"a-size-large product-title-word-break\"]')\n",
    "        NP.append(product.text)\n",
    "    except NoSuchElementException :\n",
    "        NP.append('-')\n"
   ]
  },
  {
   "cell_type": "code",
   "execution_count": null,
   "id": "09796b84",
   "metadata": {},
   "outputs": [],
   "source": [
    "len(NP)\n"
   ]
  },
  {
   "cell_type": "code",
   "execution_count": null,
   "id": "360a9a24",
   "metadata": {},
   "outputs": [],
   "source": [
    "BN=[]\n",
    "\n",
    "for i in product_link:\n",
    "    driver.get(i)\n",
    "    try:\n",
    "        brand=driver.find_element(By.XPATH,'//span[class=\"a-size-medium a-text-bold\"]')\n",
    "        BN.append(brand.text)\n",
    "    except NoSuchElementException :\n",
    "        BN.append('-')\n"
   ]
  },
  {
   "cell_type": "code",
   "execution_count": null,
   "id": "b5c64c7b",
   "metadata": {},
   "outputs": [],
   "source": [
    "len(BN)\n"
   ]
  },
  {
   "cell_type": "code",
   "execution_count": null,
   "id": "d3d55bda",
   "metadata": {},
   "outputs": [],
   "source": [
    "price=[]\n",
    "\n",
    "for i in product_link:\n",
    "    driver.get(i)\n",
    "    try:\n",
    "        price_tag=driver.find_element(By.XPATH,'//td[@class=\"a-span12\"]')\n",
    "        price.append(price_tag.text)\n",
    "    except NoSuchElementException :\n",
    "        price.append('-')\n"
   ]
  },
  {
   "cell_type": "code",
   "execution_count": null,
   "id": "a6c0ee04",
   "metadata": {},
   "outputs": [],
   "source": [
    "len(price)\n"
   ]
  },
  {
   "cell_type": "code",
   "execution_count": null,
   "id": "3d09db7d",
   "metadata": {},
   "outputs": [],
   "source": [
    "import pandas as pd\n",
    "df=pd.DataFrame({'BRAND':BN,'PRODUCT NAME':NP,'PRICE':price,'RETURN/EXCHANGE':RE,'AVAILABILITY':AV,'EXPECTED DELIVERY':ED,'Product Link':product_link})\n",
    "df\n"
   ]
  },
  {
   "cell_type": "markdown",
   "id": "6d8478b5",
   "metadata": {},
   "source": [
    "3)Write a python program to access the search bar and search button on images.google.com and scrape 10\n",
    "images each for keywords ‘fruits’, ‘cars’ and ‘Machine Learning’, ‘Guitar’, ‘Cakes’.\n",
    "\n"
   ]
  },
  {
   "cell_type": "code",
   "execution_count": null,
   "id": "7fc62a3b",
   "metadata": {},
   "outputs": [],
   "source": [
    "import selenium\n",
    "import pandas as pd\n",
    "from selenium import webdriver\n",
    "import warnings\n",
    "warnings.filterwarnings('ignore')\n",
    "from selenium.common.exceptions import StaleElementReferenceException, NoSuchElementException\n",
    "from selenium.webdriver.common.by import By\n",
    "from selenium.webdriver.common.keys import Keys\n",
    "import time\n",
    "import requests\n"
   ]
  },
  {
   "cell_type": "code",
   "execution_count": null,
   "id": "7fbaac67",
   "metadata": {},
   "outputs": [],
   "source": [
    "driver=webdriver.Chrome(r\"chromedriver.exe\")\n"
   ]
  },
  {
   "cell_type": "code",
   "execution_count": null,
   "id": "1a1d43f5",
   "metadata": {},
   "outputs": [],
   "source": [
    "driver.get(\"https://www.google.com\")\n"
   ]
  },
  {
   "cell_type": "code",
   "execution_count": null,
   "id": "7375ae53",
   "metadata": {},
   "outputs": [],
   "source": [
    "images=driver.find_element(By.XPATH,\"/html/body/div[1]/div[1]/div/div/div/div[1]/div/div[2]/a\")\n",
    "images.click()\n"
   ]
  },
  {
   "cell_type": "code",
   "execution_count": null,
   "id": "6f0c7c46",
   "metadata": {},
   "outputs": [],
   "source": [
    "enter=driver.find_element(By.XPATH,'/html/body/div[1]/div[3]/form/div[1]/div[1]/div[1]/div/div[2]/input')\n",
    "enter.send_keys('cars')\n"
   ]
  },
  {
   "cell_type": "code",
   "execution_count": null,
   "id": "9f2cb8aa",
   "metadata": {},
   "outputs": [],
   "source": [
    "search=driver.find_element(By.XPATH,'/html/body/div[1]/div[3]/form/div[1]/div[1]/div[1]/button/div/span')\n",
    "search.click()\n"
   ]
  },
  {
   "cell_type": "code",
   "execution_count": null,
   "id": "1536ba00",
   "metadata": {},
   "outputs": [],
   "source": [
    "for i in range(20):\n",
    "    driver.execute_script('window.scrollBy(0,1000)')\n",
    "images = driver.find_elements(By.XPATH,'//div[@class=\" bRMDJf islir\"]')\n",
    "\n",
    "img_urls=[]\n",
    "img_data=[]\n",
    "for image in images:\n",
    "    source= image.get_attribute('src')\n",
    "    if source is not None:\n",
    "        if(source[0:4] == 'http'):\n",
    "            img_urls.append(source)\n",
    "            \n",
    "for i in range(len(img_urls)):\n",
    "    if i>10:\n",
    "        breakBy.XPATH,\n",
    "print('Downloading {0} of {1} images'.format(i,10))\n",
    "response=requests.get(img_urls[i])\n",
    "file=open(r\"D:\\fliprobo internship\"+str(i)+\".jpg\",\"wb\")\n",
    "file.write(response.content)\n"
   ]
  },
  {
   "cell_type": "markdown",
   "id": "eb017d97",
   "metadata": {},
   "source": [
    "4)Write a python program to search for a smartphone(e.g.: Oneplus Nord, pixel 4A, etc.) on www.flipkart.com\n",
    "and scrape following details for all the search results displayed on 1st page. Details to be scraped: “Brand Name”, “Smartphone name”, “Colour”, “RAM”, “Storage(ROM)”, “Primary Camera”, “Secondary Camera”, “Display Size”, “Battery Capacity”, “Price”, “Product URL”. Incase if any of the details is missing then replace it by “- “. Save your results in a dataframe and CSV.\n",
    "\n"
   ]
  },
  {
   "cell_type": "code",
   "execution_count": null,
   "id": "f8c4ba95",
   "metadata": {},
   "outputs": [],
   "source": [
    "import selenium\n",
    "import pandas as pd\n",
    "from selenium import webdriver\n",
    "import warnings\n",
    "warnings.filterwarnings('ignore')\n",
    "from selenium.common.exceptions import StaleElementReferenceException, NoSuchElementException\n",
    "from selenium.webdriver.common.by import By\n",
    "from selenium.webdriver.common.keys import Keys\n",
    "import time\n"
   ]
  },
  {
   "cell_type": "code",
   "execution_count": null,
   "id": "fb2544d3",
   "metadata": {},
   "outputs": [],
   "source": [
    "driver=webdriver.Chrome(r\"chromedriver.exe\")\n"
   ]
  },
  {
   "cell_type": "code",
   "execution_count": null,
   "id": "8d71a6b7",
   "metadata": {},
   "outputs": [],
   "source": [
    "driver.get('https://www.flipkart.com')\n"
   ]
  },
  {
   "cell_type": "code",
   "execution_count": null,
   "id": "3443cd3a",
   "metadata": {},
   "outputs": [],
   "source": [
    "enter=driver.find_element(By.XPATH,'/html/body/div[1]/div/div[1]/div[1]/div[2]/div[2]/form/div/div/input')\n",
    "enter.send_keys('smartphones')\n",
    "\n",
    "search=driver.find_element(By.XPATH,'/html/body/div[1]/div/div[1]/div[1]/div[2]/div[2]/form/div/button')\n",
    "search.click()\n"
   ]
  },
  {
   "cell_type": "code",
   "execution_count": null,
   "id": "54093966",
   "metadata": {},
   "outputs": [],
   "source": [
    "link=[]\n",
    "\n",
    "url=driver.find_elements(By.XPATH,'//a[@class=\"_1fQZEK\"]')\n",
    "for i in url:\n",
    "    link.append(i.get_attribute('href'))\n",
    "\n",
    "len(link)\n"
   ]
  },
  {
   "cell_type": "code",
   "execution_count": null,
   "id": "2acfac65",
   "metadata": {},
   "outputs": [],
   "source": [
    "BN=[]\n",
    "\n",
    "for i in link:\n",
    "    driver.get(i)\n",
    "    try:\n",
    "        name=driver.find_element(By.XPATH,'//span[@class=\"B_NuCI\"]')\n",
    "        BN.append(name.text.split('|')[0])\n",
    "    except NoSuchElementException :\n",
    "        BN.append('-')\n",
    "\n",
    "len(BN)\n"
   ]
  },
  {
   "cell_type": "code",
   "execution_count": null,
   "id": "3b8ca9bf",
   "metadata": {},
   "outputs": [],
   "source": [
    "SN=[]\n",
    "\n",
    "for i in link:\n",
    "    driver.get(i)\n",
    "    try:\n",
    "        model=driver.find_element(By.XPATH,'/html/body/div[1]/div/div[3]/div[1]/div[2]/div[2]/div/div[1]/h1/span')\n",
    "        SN.append(model.text)\n",
    "    except NoSuchElementException :\n",
    "        SN.append('-')\n",
    "SN\n"
   ]
  },
  {
   "cell_type": "code",
   "execution_count": null,
   "id": "6573c3d3",
   "metadata": {},
   "outputs": [],
   "source": [
    "color=[]\n",
    "\n",
    "for i in link:\n",
    "    driver.get(i)\n",
    "    try:\n",
    "        col=driver.find_element(By.XPATH,'//tr[4][@class=\"_1s_Smc row\"]')\n",
    "        color.append(col.text.replace('Color\\n',''))\n",
    "    except NoSuchElementException :\n",
    "        color.append('-')\n",
    "len(color)\n"
   ]
  },
  {
   "cell_type": "code",
   "execution_count": null,
   "id": "b134f560",
   "metadata": {},
   "outputs": [],
   "source": [
    "color\n"
   ]
  },
  {
   "cell_type": "code",
   "execution_count": null,
   "id": "73c9acba",
   "metadata": {},
   "outputs": [],
   "source": [
    "RAM=[]\n",
    "\n",
    "for i in link:\n",
    "    driver.get(i)\n",
    "    try:\n",
    "        ram=driver.find_element(By.XPATH,'//div[3][@class=\"ffYZ17 col col-12-12\"]')\n",
    "        RAM.append(ram.text.replace('\\n','-'))\n",
    "    except NoSuchElementException :\n",
    "        RAM.append('-')\n",
    "len(RAM)\n"
   ]
  },
  {
   "cell_type": "code",
   "execution_count": null,
   "id": "6dfbc835",
   "metadata": {},
   "outputs": [],
   "source": [
    "RAM"
   ]
  },
  {
   "cell_type": "code",
   "execution_count": null,
   "id": "b488ee59",
   "metadata": {},
   "outputs": [],
   "source": [
    "Storage=[]\n",
    "\n",
    "for i in link:\n",
    "    driver.get(i)\n",
    "    try:\n",
    "        rom=driver.find_element(By.XPATH,'/html/body/div[1]/div/div[3]/div[1]/div[2]/div[6]/div/div[2]/div[1]')\n",
    "        Storage.append(rom.text.replace('\\n',' ').replace('Storage',''))\n",
    "    except NoSuchElementException :\n",
    "        Storage.append('-')\n"
   ]
  },
  {
   "cell_type": "code",
   "execution_count": null,
   "id": "b8de3c86",
   "metadata": {},
   "outputs": [],
   "source": [
    "Storage\n"
   ]
  },
  {
   "cell_type": "code",
   "execution_count": null,
   "id": "7d00b4dd",
   "metadata": {},
   "outputs": [],
   "source": [
    "PC=[]\n",
    "SC=[]\n",
    "DS=[]\n",
    "BS=[]\n",
    "Price=[]\n",
    "\n",
    "for i in link:\n",
    "    driver.get(i)\n",
    "    try:\n",
    "        cam=driver.find_element(By.XPATH,'/html/body/div[1]/div/div[3]/div[1]/div[2]/div[9]/div[5]/div/div[2]/div[1]/div[5]/table/tbody/tr[2]')\n",
    "        PC.append(cam.text)\n",
    "    except NoSuchElementException :\n",
    "        PC.append('-')\n",
    "    \n",
    "    try:\n",
    "        scam=driver.find_element(By.XPATH,'/html/body/div[1]/div/div[3]/div[1]/div[2]/div[9]/div[5]/div/div[2]/div[1]/div[5]/table/tbody/tr[5]')\n",
    "        SC.append(scam.text)\n",
    "    except NoSuchElementException :\n",
    "        SC.append('-')\n",
    "\n",
    "    try:\n",
    "        screen=driver.find_element(By.XPATH,'//li[2][@class=\"_21Ahn-\"]')\n",
    "        DS.append(screen.text)\n",
    "    except NoSuchElementException :\n",
    "        DS.append('-')\n",
    "        \n",
    "    try:\n",
    "        battery=driver.find_element(By.XPATH,'//li[4][@class=\"_21Ahn-\"]')\n",
    "        BS.append(battery.text)\n",
    "    except NoSuchElementException :\n",
    "        BS.append('-')\n",
    "        \n",
    "    try:\n",
    "        cost=driver.find_element(By.XPATH,'//div[@class=\"_30jeq3 _16Jk6d\"]')\n",
    "        Price.append(cost.text)\n",
    "    except NoSuchElementException :\n",
    "        Price.append('-')\n"
   ]
  },
  {
   "cell_type": "code",
   "execution_count": null,
   "id": "f783e6e9",
   "metadata": {},
   "outputs": [],
   "source": [
    "import pandas as pd\n",
    "df_4=pd.DataFrame({'BRAND':BN,'SMARTPHONE NAME':SN,'COLOUR':color,'RAM':RAM,'ROM':Storage,'Primary Camera':PC,'Secondary Camera':SC,'SCREEN':DS,'Battery Capacity':BS,'PRICE':Price})\n",
    "df_4"
   ]
  },
  {
   "cell_type": "markdown",
   "id": "c985e3f7",
   "metadata": {},
   "source": [
    "5)Write a program to scrap geospatial coordinates (latitude, longitude) of a city searched on google maps.\n"
   ]
  },
  {
   "cell_type": "code",
   "execution_count": null,
   "id": "0cc684eb",
   "metadata": {},
   "outputs": [],
   "source": [
    "import selenium\n",
    "import pandas as pd\n",
    "from selenium import webdriver\n",
    "import warnings\n",
    "warnings.filterwarnings('ignore')\n",
    "from selenium.common.exceptions import StaleElementReferenceException, NoSuchElementException\n",
    "from selenium.webdriver.common.by import By\n",
    "from selenium.webdriver.common.keys import Keys\n",
    "import time\n",
    "import re\n"
   ]
  },
  {
   "cell_type": "code",
   "execution_count": null,
   "id": "e5337653",
   "metadata": {},
   "outputs": [],
   "source": [
    "driver=webdriver.Chrome(r\"chromedriver.exe\")\n"
   ]
  },
  {
   "cell_type": "code",
   "execution_count": null,
   "id": "8f916759",
   "metadata": {},
   "outputs": [],
   "source": [
    "driver.get('https://www.googlemaps.com')\n"
   ]
  },
  {
   "cell_type": "code",
   "execution_count": null,
   "id": "a2dd7e55",
   "metadata": {},
   "outputs": [],
   "source": [
    "location=driver.find_element(By.XPATH,'/html/body/div[3]/div[9]/div[3]/div[1]/div[1]/div/div[2]/form/input[1]')\n",
    "location.send_keys('Odisha')\n",
    "\n",
    "search=driver.find_element(By.XPATH,'/html/body/div[3]/div[9]/div[3]/div[1]/div[1]/div/div[2]/div[1]/button')\n",
    "search.click()\n"
   ]
  },
  {
   "cell_type": "code",
   "execution_count": null,
   "id": "efde77ef",
   "metadata": {},
   "outputs": [],
   "source": [
    "try:\n",
    "    url=driver.current_url\n",
    "    print('URL_EXTRACTED',url)\n",
    "    lat_lan=re.findall(r'@(.*)data',url)\n",
    "    if len(lat_lan):\n",
    "        lat_lan_list = lat_lan[0].split(',')\n",
    "        if len(lat_lan_list)>=2:\n",
    "            lat = lat_lan_list[0]\n",
    "            lan=lat_lan_list[1]\n",
    "        print('Latititude={},Longitude={}'.format(lat,lan))\n",
    "except Exception as e:\n",
    "    print(\"Error:\",str(e))\n"
   ]
  },
  {
   "cell_type": "markdown",
   "id": "c4c82da7",
   "metadata": {},
   "source": [
    "6)Write a program to scrap all the available details of best gaming laptops from digit.in.\n"
   ]
  },
  {
   "cell_type": "code",
   "execution_count": null,
   "id": "e83d221f",
   "metadata": {},
   "outputs": [],
   "source": [
    "import selenium\n",
    "import pandas as pd\n",
    "from selenium import webdriver\n",
    "import warnings\n",
    "warnings.filterwarnings('ignore')\n",
    "from selenium.common.exceptions import StaleElementReferenceException, NoSuchElementException\n",
    "from selenium.webdriver.common.by import By\n",
    "from selenium.webdriver.common.keys import Keys\n",
    "import time\n"
   ]
  },
  {
   "cell_type": "code",
   "execution_count": null,
   "id": "707690ef",
   "metadata": {},
   "outputs": [],
   "source": [
    "driver=webdriver.Chrome(r\"chromedriver.exe\")\n",
    "driver.get('https://www.digit.in')\n"
   ]
  },
  {
   "cell_type": "code",
   "execution_count": null,
   "id": "b19cf62f",
   "metadata": {},
   "outputs": [],
   "source": [
    "top10=driver.find_element(By.XPATH,'/html/body/div[2]/div/ul/li[3]/a')\n",
    "top10.click()\n"
   ]
  },
  {
   "cell_type": "code",
   "execution_count": null,
   "id": "3777eea3",
   "metadata": {},
   "outputs": [],
   "source": [
    "search=driver.find_element(By.XPATH,'/html/body/div[2]/div/ul/li[3]/div/div/div[2]/div/ul[4]/li')\n",
    "search.click()\n"
   ]
  },
  {
   "cell_type": "code",
   "execution_count": null,
   "id": "0b10fd4d",
   "metadata": {},
   "outputs": [],
   "source": [
    "brand=[]\n",
    "operating_system=[]\n",
    "Displays=[]\n",
    "Processor=[]\n",
    "Memory=[]\n",
    "Price=[]\n"
   ]
  },
  {
   "cell_type": "code",
   "execution_count": null,
   "id": "936f92ee",
   "metadata": {},
   "outputs": [],
   "source": [
    "urls=[]\n",
    "url=driver.find_elements(By.XPATH,'//div[@class=\"left_side\"]/a')\n",
    "for i in url:\n",
    "    urls.append(i.get_attribute('href'))\n",
    "urls\n"
   ]
  },
  {
   "cell_type": "code",
   "execution_count": null,
   "id": "0edbfe16",
   "metadata": {},
   "outputs": [],
   "source": [
    "for i in urls:\n",
    "    driver.get(i)\n",
    "    try:\n",
    "        name=driver.find_element(By.XPATH,'//div[@class=\"heading-wraper\"]')\n",
    "        brand.append(name.text)\n",
    "    except NoSuchElementException :\n",
    "        brand.append('-')\n"
   ]
  },
  {
   "cell_type": "code",
   "execution_count": null,
   "id": "0cf3ba71",
   "metadata": {},
   "outputs": [],
   "source": [
    "brand\n"
   ]
  },
  {
   "cell_type": "code",
   "execution_count": null,
   "id": "5e30e507",
   "metadata": {},
   "outputs": [],
   "source": [
    "len(brand)\n"
   ]
  },
  {
   "cell_type": "code",
   "execution_count": null,
   "id": "a9f29d05",
   "metadata": {},
   "outputs": [],
   "source": [
    "for i in urls:\n",
    "    driver.get(i)\n",
    "    try:\n",
    "        display=driver.find_element(By.XPATH,'//div[2][@class=\"remaining-details\"]')\n",
    "        Displays.append(display.text.replace('Display\\n','').replace('\\ndisplay','').replace('(in inches)','').replace('\\n',' '))\n",
    "    except NoSuchElementException :\n",
    "        Displays.append('-')\n"
   ]
  },
  {
   "cell_type": "code",
   "execution_count": null,
   "id": "785af720",
   "metadata": {},
   "outputs": [],
   "source": [
    "Displays\n"
   ]
  },
  {
   "cell_type": "code",
   "execution_count": null,
   "id": "77bcdde3",
   "metadata": {},
   "outputs": [],
   "source": [
    "len(Displays)\n"
   ]
  },
  {
   "cell_type": "code",
   "execution_count": null,
   "id": "959c66a9",
   "metadata": {},
   "outputs": [],
   "source": [
    "for i in urls:\n",
    "    driver.get(i)\n",
    "    try:\n",
    "        mem=driver.find_element(By.XPATH,'//div[4][@class=\"remaining-details\"]')\n",
    "        Memory.append(mem.text.replace('Memory\\nram included (in gb) : ','').replace('\\n',' '))\n",
    "    except NoSuchElementException :\n",
    "        Memory.append('-')\n"
   ]
  },
  {
   "cell_type": "code",
   "execution_count": null,
   "id": "2b8fd4e5",
   "metadata": {},
   "outputs": [],
   "source": [
    "Memory"
   ]
  },
  {
   "cell_type": "code",
   "execution_count": null,
   "id": "3fdbd635",
   "metadata": {},
   "outputs": [],
   "source": [
    "len(Memory)\n"
   ]
  },
  {
   "cell_type": "code",
   "execution_count": null,
   "id": "4d29e721",
   "metadata": {},
   "outputs": [],
   "source": [
    "for i in urls:\n",
    "    driver.get(i)\n",
    "    try:\n",
    "        rom=driver.find_element(By.XPATH,'//div[6][@class=\"remaining-details\"]')\n",
    "        Processor.append(rom.text.replace('Processor','').replace('\\n',' '))\n",
    "    except NoSuchElementException :\n",
    "        Processor.append('-')\n"
   ]
  },
  {
   "cell_type": "code",
   "execution_count": null,
   "id": "7fff04b4",
   "metadata": {},
   "outputs": [],
   "source": [
    "Processor\n"
   ]
  },
  {
   "cell_type": "code",
   "execution_count": null,
   "id": "5d32e625",
   "metadata": {},
   "outputs": [],
   "source": [
    "len(Processor)\n"
   ]
  },
  {
   "cell_type": "code",
   "execution_count": null,
   "id": "5accd4e5",
   "metadata": {},
   "outputs": [],
   "source": [
    "for i in urls:\n",
    "    driver.get(i)\n",
    "    try:\n",
    "        price=driver.find_element(By.XPATH,'//span[@class=\"price\"]')\n",
    "        Price.append(price.text)\n",
    "    except NoSuchElementException :\n",
    "        Price.append('-')\n"
   ]
  },
  {
   "cell_type": "code",
   "execution_count": null,
   "id": "3a1be441",
   "metadata": {},
   "outputs": [],
   "source": [
    "Price"
   ]
  },
  {
   "cell_type": "code",
   "execution_count": null,
   "id": "352f7fdd",
   "metadata": {},
   "outputs": [],
   "source": [
    "import pandas as pd\n",
    "df_6=pd.DataFrame({'LAPTOP BRAND AND MODEL':brand[0:8],'DISPLAY':Displays[0:8],'PROCESSOR':Processor[0:8],'MEMORY':Memory[0:8],'PRICE':Price[0:8]})\n",
    "df_6\n"
   ]
  },
  {
   "cell_type": "markdown",
   "id": "8f3de281",
   "metadata": {},
   "source": [
    "7)Write a python program to scrape the details for all billionaires from www.forbes.com. Details to be scrapped:\n"
   ]
  },
  {
   "cell_type": "markdown",
   "id": "43142125",
   "metadata": {},
   "source": [
    "“Rank”, “Name”, “Net worth”, “Age”, “Citizenship”, “Source”, “Industry”.\n",
    "\n"
   ]
  },
  {
   "cell_type": "code",
   "execution_count": null,
   "id": "674ec8d6",
   "metadata": {},
   "outputs": [],
   "source": [
    "import selenium\n",
    "import pandas as pd\n",
    "from selenium import webdriver\n",
    "import warnings\n",
    "warnings.filterwarnings('ignore')\n",
    "from selenium.common.exceptions import StaleElementReferenceException, NoSuchElementException\n",
    "from selenium.webdriver.common.by import By\n",
    "from selenium.webdriver.common.keys import Keys\n",
    "import time\n"
   ]
  },
  {
   "cell_type": "code",
   "execution_count": null,
   "id": "02957f0b",
   "metadata": {},
   "outputs": [],
   "source": [
    "driver=webdriver.Chrome(r\"chromedriver.exe\")\n",
    "driver.get('https://www.forbes.com')\n"
   ]
  },
  {
   "cell_type": "code",
   "execution_count": null,
   "id": "d2ddd4b6",
   "metadata": {},
   "outputs": [],
   "source": [
    "bar=driver.find_element(By.XPATH,'/html/body/div[1]/header/nav/div[1]/div/div/div')\n",
    "bar.click()\n"
   ]
  },
  {
   "cell_type": "code",
   "execution_count": null,
   "id": "f12b55ef",
   "metadata": {},
   "outputs": [],
   "source": [
    "billionair=driver.find_element(By.XPATH,'/html/body/div[1]/header/nav/div[1]/div/div/div[2]/ul/li[1]/div[1]')\n",
    "billionair.click()\n"
   ]
  },
  {
   "cell_type": "code",
   "execution_count": null,
   "id": "c098070c",
   "metadata": {},
   "outputs": [],
   "source": [
    "wb=driver.find_element(By.XPATH,'/html/body/div[1]/header/nav/div[1]/div/div/div[2]/ul/li[1]/div[2]/div[3]/ul/li[1]')\n",
    "wb.click()\n"
   ]
  },
  {
   "cell_type": "code",
   "execution_count": null,
   "id": "718c3ec2",
   "metadata": {},
   "outputs": [],
   "source": [
    "rank=[]\n",
    "name=[]\n",
    "networth=[]\n",
    "age=[]\n",
    "citizenship=[]\n",
    "source=[]\n",
    "industry=[]\n"
   ]
  },
  {
   "cell_type": "code",
   "execution_count": null,
   "id": "d537f38d",
   "metadata": {},
   "outputs": [],
   "source": [
    "ranks=driver.find_elements(By.XPATH,'//div[@class=\"rank\"]')\n",
    "for i in ranks:\n",
    "    rank.append(i.text)\n",
    "\n",
    "names=driver.find_elements(By.XPATH,'//div[@class=\"personName\"]')\n",
    "for i in names:\n",
    "    name.append(i.text)\n",
    "\n",
    "NW=driver.find_elements(By.XPATH,'//div[@class=\"netWorth\"]')\n",
    "for i in NW:\n",
    "    networth.append(i.text)\n",
    "    \n",
    "Age=driver.find_elements(By.XPATH,'//div[@class=\"age\"]')\n",
    "for i in Age:\n",
    "    age.append(i.text)\n",
    "    \n",
    "Citizen=driver.find_elements(By.XPATH,'//div[@class=\"countryOfCitizenship\"]')\n",
    "for i in Citizen:\n",
    "    citizenship.append(i.text)\n",
    "\n",
    "Source=driver.find_elements(By.XPATH,'//span[@class=\"source-text\"]')\n",
    "for i in Source:\n",
    "    source.append(i.text)\n",
    "    \n",
    "Industry=driver.find_elements(By.XPATH,'//div[@class=\"category\"]')\n",
    "for i in Industry:\n",
    "    industry.append(i.text)\n"
   ]
  },
  {
   "cell_type": "code",
   "execution_count": null,
   "id": "8af5b95e",
   "metadata": {},
   "outputs": [],
   "source": [
    "name\n"
   ]
  },
  {
   "cell_type": "code",
   "execution_count": null,
   "id": "14ef055c",
   "metadata": {},
   "outputs": [],
   "source": [
    "print(len(rank),len(names),len(NW),len(age),len(citizenship),len(source),len(industry))\n"
   ]
  },
  {
   "cell_type": "code",
   "execution_count": null,
   "id": "85e56c22",
   "metadata": {},
   "outputs": [],
   "source": [
    "import pandas as pd\n",
    "df_7=pd.DataFrame({'RANK':rank[0:200],'NAMES':name[0:200],'NET_WORTH':networth[0:200],'AGE':age[0:200],'CITIZENSHIP':citizenship[0:200],'SOURCE':source[0:200],'INDUSTRY':industry[0:200]})\n",
    "df_7\n"
   ]
  },
  {
   "cell_type": "markdown",
   "id": "1e6ea886",
   "metadata": {},
   "source": [
    "8)Write a program to extract at least 500 Comments, Comment upvote and time when comment was posted\n"
   ]
  },
  {
   "cell_type": "code",
   "execution_count": null,
   "id": "adb2e9e7",
   "metadata": {},
   "outputs": [],
   "source": [
    "# Connecting to the browser\n",
    "driver=webdriver.Chrome(r'C:\\Users\\Vishal Manoj\\Downloads\\Chrome\\chromedriver.exe')\n"
   ]
  },
  {
   "cell_type": "code",
   "execution_count": null,
   "id": "9e9c3f0e",
   "metadata": {},
   "outputs": [],
   "source": [
    "# Connecting to the webpage\n",
    "url= 'https://www.youtube.com/watch?v=uNi3aYr1VaQ'\n",
    "driver.get(url)\n"
   ]
  },
  {
   "cell_type": "code",
   "execution_count": null,
   "id": "cacfa560",
   "metadata": {},
   "outputs": [],
   "source": [
    "# Clicking on comments\n",
    "po=driver.find_elements(By.XPATH,'/html/body/ytd-app/div[1]/ytd-page-manager/ytd-watch-flexy/div[5]/div[1]/div/div[2]/ytd-watch-metadata/div/div[3]/div[2]/ytd-comments-entry-point-header-renderer/div[1]/div[1]')\n",
    "time.sleep(2)\n"
   ]
  },
  {
   "cell_type": "code",
   "execution_count": null,
   "id": "5116e5c5",
   "metadata": {},
   "outputs": [],
   "source": [
    "po[0].click()\n"
   ]
  },
  {
   "cell_type": "code",
   "execution_count": null,
   "id": "cd7773d5",
   "metadata": {},
   "outputs": [],
   "source": [
    "a=driver.find_elements(By.XPATH,'/html/body/ytd-app/div[1]/ytd-page-manager/ytd-watch-flexy/div[5]/div[1]/div/div[2]/div[1]/ytd-engagement-panel-section-list-renderer[3]/div[2]/ytd-section-list-renderer/div[2]/ytd-comments/ytd-item-section-renderer/div[3]/ytd-comment-thread-renderer[453]/ytd-comment-renderer/div[3]/div[2]/div[1]/div[2]/h3/a/span')\n",
    "driver.execute_script(\"arguments[0].scrollIntoVeiw();\",a)\n"
   ]
  },
  {
   "cell_type": "code",
   "execution_count": null,
   "id": "7367a157",
   "metadata": {},
   "outputs": [],
   "source": [
    "na=driver.find_elements(By.XPATH,\"//span [@class=' style-scope ytd-comment-renderer']\")\n",
    "co=driver.find_elements(By.XPATH,\"//div/yt-formatted-string[@id='content-text']\")\n",
    "ti=driver.find_elements(By.XPATH,\"//div[3]/div[2]/div[1]/div[2]/yt-formatted-string/a\")\n"
   ]
  },
  {
   "cell_type": "code",
   "execution_count": null,
   "id": "b4a7972a",
   "metadata": {},
   "outputs": [],
   "source": [
    "n=[]\n",
    "c=[]\n",
    "t=[]\n",
    "for i in range (0,500):\n",
    "    n.append(na[i].text)\n",
    "    c.append(co[i].text)\n",
    "    t.append(ti[i].text)\n"
   ]
  },
  {
   "cell_type": "code",
   "execution_count": null,
   "id": "1c4b20f8",
   "metadata": {},
   "outputs": [],
   "source": [
    "p= pd.DataFrame(list(zip(n,c,t)),\n",
    "               columns =['Name', 'Comment','Time'])\n"
   ]
  },
  {
   "cell_type": "code",
   "execution_count": null,
   "id": "fa30f6d6",
   "metadata": {},
   "outputs": [],
   "source": [
    "p[0:458]\n"
   ]
  },
  {
   "cell_type": "markdown",
   "id": "c0d74216",
   "metadata": {},
   "source": [
    "9) Write a python program to scrape a data for all available Hostels from https://www.hostelworld.com/ in \n",
    "“London” location. You have to scrape hostel name, distance from city centre, ratings, total reviews, overall \n",
    "reviews, privates from price, dorms from price, facilities and property description. \n"
   ]
  },
  {
   "cell_type": "code",
   "execution_count": null,
   "id": "ccd045f2",
   "metadata": {},
   "outputs": [],
   "source": [
    "# Connecting to the browser\n",
    "driver=webdriver.Chrome(r'C:\\Users\\Vishal Manoj\\Downloads\\Chrome\\chromedriver.exe')\n"
   ]
  },
  {
   "cell_type": "code",
   "execution_count": null,
   "id": "795ceb95",
   "metadata": {},
   "outputs": [],
   "source": [
    "# Connecting to the webpage\n",
    "url= 'https://www.hostelworld.com/'\n",
    "driver.get(url)\n"
   ]
  },
  {
   "cell_type": "code",
   "execution_count": null,
   "id": "6a6fcceb",
   "metadata": {},
   "outputs": [],
   "source": [
    "# Searching for the place to give the product name\n",
    "search_job=driver.find_elements(By.XPATH,'/html/body/div[3]/div/div/div[1]/div[1]/div/div/div[4]/div/div[2]/div/div[1]/div/div/div/input')\n"
   ]
  },
  {
   "cell_type": "code",
   "execution_count": null,
   "id": "ef7ef917",
   "metadata": {},
   "outputs": [],
   "source": [
    "# Entering the product in searching tab\n",
    "search_job[0].send_keys('London')\n"
   ]
  },
  {
   "cell_type": "code",
   "execution_count": null,
   "id": "3164d864",
   "metadata": {},
   "outputs": [],
   "source": [
    "cli=driver.find_elements(By.XPATH,'/html/body/div[3]/div/div/div[1]/div[1]/div/div/div[4]/div/div[2]/div/div[1]/div/div/ul/li[2]/div')\n",
    "time.sleep(2)\n"
   ]
  },
  {
   "cell_type": "code",
   "execution_count": null,
   "id": "923b2296",
   "metadata": {},
   "outputs": [],
   "source": [
    "cli[0].click()\n"
   ]
  },
  {
   "cell_type": "code",
   "execution_count": null,
   "id": "a84c3e43",
   "metadata": {},
   "outputs": [],
   "source": [
    "q=driver.find_elements(By.XPATH,'/html/body/div[3]/div/div/div[1]/div[1]/div/div/div[4]/div/div[2]/div/div[2]/div[1]/span[2]')\n",
    "time.sleep(2)\n"
   ]
  },
  {
   "cell_type": "code",
   "execution_count": null,
   "id": "698dc425",
   "metadata": {},
   "outputs": [],
   "source": [
    "q[0].click()\n"
   ]
  },
  {
   "cell_type": "code",
   "execution_count": null,
   "id": "76a3ca42",
   "metadata": {},
   "outputs": [],
   "source": [
    "w=driver.find_elements(By.XPATH,'/html/body/div[3]/div/div/div[1]/div[1]/div/div/div[4]/div/div[2]/div/div[2]/div[2]/div/div[14]/div')\n",
    "time.sleep(2)\n"
   ]
  },
  {
   "cell_type": "code",
   "execution_count": null,
   "id": "9fab6774",
   "metadata": {},
   "outputs": [],
   "source": [
    "w[0].click()\n"
   ]
  },
  {
   "cell_type": "code",
   "execution_count": null,
   "id": "a12374bb",
   "metadata": {},
   "outputs": [],
   "source": [
    "#setting arrival date\n",
    "u=driver.find_elements(By.XPATH,'/html/body/div[3]/div/div/div[1]/div[1]/div/div/div[4]/div/div[2]/div/div[3]/div[1]/span[2]')\n",
    "time.sleep(2)\n"
   ]
  },
  {
   "cell_type": "code",
   "execution_count": null,
   "id": "f257f9f0",
   "metadata": {},
   "outputs": [],
   "source": [
    "u[0].click()\n",
    "time.sleep(2)\n"
   ]
  },
  {
   "cell_type": "code",
   "execution_count": null,
   "id": "3f205d23",
   "metadata": {},
   "outputs": [],
   "source": [
    "#setting departure date\n",
    "m=driver.find_elements(By.XPATH,'/html/body/div[3]/div/div/div[1]/div[1]/div/div/div[4]/div/div[2]/div/div[3]/div[2]/div/div[35]/div')\n",
    "time.sleep(2)\n"
   ]
  },
  {
   "cell_type": "code",
   "execution_count": null,
   "id": "1a4d66d8",
   "metadata": {},
   "outputs": [],
   "source": [
    "m[0].click()\n",
    "time.sleep(2)\n"
   ]
  },
  {
   "cell_type": "code",
   "execution_count": null,
   "id": "51edf354",
   "metadata": {},
   "outputs": [],
   "source": [
    "# Clicking on the lets go option\n",
    "lg=driver.find_elements(By.XPATH,'/html/body/div[3]/div/div/div[1]/div[1]/div/div/div[4]/div/div[2]/div/div[5]/button')\n",
    "time.sleep(2)\n"
   ]
  },
  {
   "cell_type": "code",
   "execution_count": null,
   "id": "6e48a3da",
   "metadata": {},
   "outputs": [],
   "source": [
    "lg[0].click()\n",
    "time.sleep(2)"
   ]
  },
  {
   "cell_type": "code",
   "execution_count": null,
   "id": "21aa6a78",
   "metadata": {},
   "outputs": [],
   "source": [
    "name=driver.find_elements(By.XPATH,\"//h2[@class='title title-6']\")\n",
    "d=driver.find_elements(By.XPATH,\"//span[@class='description']\")\n",
    "r=driver.find_elements(By.XPATH,\"//div[@class='bottom-rating']\")\n",
    "tr=driver.find_elements(By.XPATH,\"//div[@class='reviews']\")\n",
    "v=driver.find_elements(By.XPATH,\"//div[@class='keyword']\")\n",
    "p=driver.find_elements(By.XPATH,\"//div[@class='price title-5']\"and\"//div[@class='price-col']\")\n"
   ]
  },
  {
   "cell_type": "code",
   "execution_count": null,
   "id": "c5cbb031",
   "metadata": {},
   "outputs": [],
   "source": [
    "hn=[]\n",
    "dis=[]\n",
    "rat=[]\n",
    "tore=[]\n",
    "for i in range (0,30):\n",
    "    hn.append(name[i].text)\n",
    "    dis.append(d[i].text.split()[2])\n",
    "    rat.append(r[i].text.split('\\n')[0])\n",
    "    tore.append(tr[i].text.split()[0])\n"
   ]
  },
  {
   "cell_type": "code",
   "execution_count": null,
   "id": "ef51d4b6",
   "metadata": {},
   "outputs": [],
   "source": [
    "wr=[]\n",
    "for i in range (2, 32):\n",
    "    wr.append(v[i].text)\n"
   ]
  },
  {
   "cell_type": "code",
   "execution_count": null,
   "id": "e51d6550",
   "metadata": {},
   "outputs": [],
   "source": [
    "len(wr)\n"
   ]
  },
  {
   "cell_type": "code",
   "execution_count": null,
   "id": "d8c6108a",
   "metadata": {},
   "outputs": [],
   "source": [
    "pri=[]\n",
    "do=[]\n",
    "for i in range (0,60):\n",
    "    if (i%2==0):\n",
    "        pri.append(p[i].text)\n",
    "    else:\n",
    "        do.append(p[i].text)\n"
   ]
  },
  {
   "cell_type": "code",
   "execution_count": null,
   "id": "977e84a6",
   "metadata": {},
   "outputs": [],
   "source": [
    "p[8].text\n"
   ]
  },
  {
   "cell_type": "code",
   "execution_count": null,
   "id": "eee3b488",
   "metadata": {},
   "outputs": [],
   "source": [
    "pd=[]\n",
    "url=driver.find_elements(By.XPATH,\"//h2/a[@href]\")\n",
    "for i in url:\n",
    "    pd.append(i.get_attribute('href'))\n"
   ]
  },
  {
   "cell_type": "code",
   "execution_count": null,
   "id": "d68db18b",
   "metadata": {},
   "outputs": [],
   "source": [
    "len(pd)\n"
   ]
  },
  {
   "cell_type": "code",
   "execution_count": null,
   "id": "a6c259ab",
   "metadata": {},
   "outputs": [],
   "source": [
    "p=[]\n",
    "for i in pd:\n",
    "    driver.get(i)\n",
    "    time.sleep(5)\n",
    "    try:\n",
    "        d=driver.find_elements(By.XPATH,\"//div[@class='content collapse-content']\")\n",
    "        p.append(d[0].text)\n",
    "    except:\n",
    "        p.append(Nan)\n"
   ]
  },
  {
   "cell_type": "code",
   "execution_count": null,
   "id": "373810eb",
   "metadata": {},
   "outputs": [],
   "source": [
    "len(p)\n"
   ]
  },
  {
   "cell_type": "code",
   "execution_count": null,
   "id": "2a1edf1d",
   "metadata": {},
   "outputs": [],
   "source": [
    "p\n"
   ]
  },
  {
   "cell_type": "code",
   "execution_count": null,
   "id": "e3f31b57",
   "metadata": {},
   "outputs": [],
   "source": [
    "import pandas as pd\n",
    "zi= pd.DataFrame(list(zip(hn,dis,rat,tore,wr,pri,do,p)),columns =['Hostel Name','Distance from city','Rating','Total Rating','Word of rating','Private room','Doom','Description'])\n"
   ]
  },
  {
   "cell_type": "code",
   "execution_count": null,
   "id": "bdebcf74",
   "metadata": {},
   "outputs": [],
   "source": [
    "zi\n"
   ]
  },
  {
   "cell_type": "code",
   "execution_count": null,
   "id": "747d80c8",
   "metadata": {},
   "outputs": [],
   "source": []
  },
  {
   "cell_type": "code",
   "execution_count": null,
   "id": "b0867486",
   "metadata": {},
   "outputs": [],
   "source": []
  }
 ],
 "metadata": {
  "kernelspec": {
   "display_name": "Python 3 (ipykernel)",
   "language": "python",
   "name": "python3"
  },
  "language_info": {
   "codemirror_mode": {
    "name": "ipython",
    "version": 3
   },
   "file_extension": ".py",
   "mimetype": "text/x-python",
   "name": "python",
   "nbconvert_exporter": "python",
   "pygments_lexer": "ipython3",
   "version": "3.9.13"
  }
 },
 "nbformat": 4,
 "nbformat_minor": 5
}
