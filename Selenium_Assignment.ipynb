{
 "cells": [
  {
   "cell_type": "code",
   "execution_count": null,
   "id": "c75d6929",
   "metadata": {},
   "outputs": [],
   "source": [
    "pip install selenium\n",
    "#1.Write a python program to scrape data for “Data Analyst” Job position in “Bangalore” location. \n",
    "#You have to scrape the job-title, job-location, company_name, experience_required. You have to scrape first 10 jobs data.\n",
    "import selenium\n",
    "import pandas as pd\n",
    "from selenium import webdriver\n",
    "import warnings\n",
    "warnings.filterwarnings('ignore')\n",
    "from selenium.common.exceptions import StaleElementReferenceException,NoSuchElementException\n",
    "from selenium.webdriver.common.by import By\n",
    "import time\n",
    "driver=webdriver.Chrome(r\"chromedriver.exe\")\n",
    "driver.get(\"https://www.naukri.com/\")\n",
    "designation=driver.find_element(By.CLASS_NAME,\"suggestor-input \")\n",
    "designation.send_keys('Data Analyst')\n",
    "location=driver.find_element(By.XPATH,\"/html/body/div[1]/div[6]/div/div/div[5]/div/div/div/input\")\n",
    "location.send_keys('Bangalore')\n",
    "#location=driver.find_element(By.CLASS_NAME,\"suggestor-input \")\n",
    "#location.send_keys('Bangalore')\n",
    "search=driver.find_element(By.CLASS_NAME,\"qsbSubmit\")\n",
    "search.click()\n",
    "job_title=[]\n",
    "job_loc=[]\n",
    "comp_name=[]\n",
    "job_exp=[]\n",
    "title_tags=driver.find_elements(By.XPATH,'//a[@class=\"title ellipsis\"]')\n",
    "for i in title_tags[0:10]:\n",
    "    title=i.text\n",
    "    job_title.append(title)\n",
    "    \n",
    "job_title\n",
    "location_tags=driver.find_elements(By.XPATH,'//span[@class=\"ellipsis fleft locWdth\"]')\n",
    "for i in location_tags[0:10]:\n",
    "    location=i.text\n",
    "    job_loc.append(location)\n",
    "    \n",
    "job_loc\n",
    "company_tags=driver.find_elements(By.XPATH,'//a[@class=\"subTitle ellipsis fleft\"]')\n",
    "for i in company_tags[0:10]:\n",
    "    comp=i.text\n",
    "    comp_name.append(comp)\n",
    "    \n",
    "comp_name\n",
    "exp_tags=driver.find_elements(By.XPATH,'//span[@class=\"ellipsis fleft expwdth\"]')\n",
    "for i in exp_tags[0:10]:\n",
    "    expe=i.text\n",
    "    job_exp.append(expe)\n",
    "    \n",
    "job_exp\n",
    "print(len(job_title),len(job_loc),len(comp_name),len(job_exp))\n",
    "#job_title.clear()\n",
    "#job_loc.clear()\n",
    "#comp_name.clear()\n",
    "#job_exp.clear()\n",
    "import pandas as pd\n",
    "df=pd.DataFrame({'Job_Name':job_title,'Job_Location':job_loc,'Company':comp_name,'Experience':job_exp})\n",
    "df\n",
    "\n",
    "\n",
    "\n"
   ]
  },
  {
   "cell_type": "code",
   "execution_count": null,
   "id": "69dd9756",
   "metadata": {},
   "outputs": [],
   "source": [
    "#Q2:Write a python program to scrape data for “Data Scientist” Job position in “Bangalore” location. You\n",
    "#have to scrape the job-title, job-location, company_name. You have to scrape first 10 jobs data.\n",
    "#This task will be done in following steps:\n",
    "driver.get(\"https://www.naukri.com/\")\n",
    "designation=driver.find_element(By.CLASS_NAME,\"suggestor-input \")\n",
    "designation.send_keys('Data Scientist')\n",
    "location=driver.find_element(By.XPATH,\"/html/body/div[1]/div[6]/div/div/div[5]/div/div/div/input\")\n",
    "location.send_keys('Bangalore')\n",
    "search=driver.find_element(By.CLASS_NAME,\"qsbSubmit\")\n",
    "search.click()\n",
    "job_title=[]\n",
    "job_loc=[]\n",
    "comp_name=[]\n",
    "job_exp=[]\n",
    "title_tags=driver.find_elements(By.XPATH,'//a[@class=\"title ellipsis\"]')\n",
    "for i in title_tags[0:10]:\n",
    "    title=i.text\n",
    "    job_title.append(title)\n",
    "    \n",
    "job_title\n",
    "location_tags=driver.find_elements(By.XPATH,'//span[@class=\"ellipsis fleft locWdth\"]')\n",
    "for i in location_tags[0:10]:\n",
    "    location=i.text\n",
    "    job_loc.append(location)\n",
    "    \n",
    "job_loc\n",
    "company_tags=driver.find_elements(By.XPATH,'//a[@class=\"subTitle ellipsis fleft\"]')\n",
    "for i in company_tags[0:10]:\n",
    "    comp=i.text\n",
    "    comp_name.append(comp)\n",
    "    \n",
    "comp_name\n",
    "exp_tags=driver.find_elements(By.XPATH,'//span[@class=\"ellipsis fleft expwdth\"]')\n",
    "for i in exp_tags[0:10]:\n",
    "    expe=i.text\n",
    "    job_exp.append(expe)\n",
    "    \n",
    "job_exp\n",
    "print(len(job_title),len(job_loc),len(comp_name),len(job_exp))\n",
    "import pandas as pd\n",
    "df=pd.DataFrame({'Job_Name':job_title,'Job_Location':job_loc,'Company':comp_name,'Experience':job_exp})\n",
    "df\n"
   ]
  },
  {
   "cell_type": "code",
   "execution_count": null,
   "id": "14218f30",
   "metadata": {},
   "outputs": [],
   "source": [
    "#3.In this question you have to scrape data using the filters available on the webpage as shown below:\n",
    "import selenium\n",
    "import pandas as pd\n",
    "from selenium import webdriver\n",
    "import warnings\n",
    "warnings.filterwarnings('ignore')\n",
    "from selenium.common.exceptions import StaleElementReferenceException,NoSuchElementException\n",
    "from selenium.webdriver.common.by import By\n",
    "import time\n",
    "driver=webdriver.Chrome(r\"chromedriver.exe\")\n",
    " \n",
    " \n",
    "driver.get(\"https://www.naukri.com/\")\n",
    " \n",
    "designation=driver.find_element(By.CLASS_NAME,\"suggestor-input \")\n",
    "designation.send_keys('Data Scientist')\n",
    "search=driver.find_element(By.CLASS_NAME,\"qsbSubmit\")\n",
    "search.click()\n",
    "location_delhi=driver.find_element(By.XPATH,\"/html/body/div[1]/div[4]/div/div/section[1]/div[2]/div[5]/div[2]/div[2]/label/i\")\n",
    "#locfil_tags.send_keys('Delhi / NCR')\n",
    "#driver.find_element(By.XPATH, \"//input[@ng-model='datepicker.startDate']\").send_keys(\"01/01/2010\")\n",
    "#driver.findElement(By.xpath(\"//label[text()='Reading']\")).click();\n",
    "location_delhi.click()\n",
    "sal_filter=driver.find_element(By.XPATH,\"/html/body/div[1]/div[4]/div/div/section[1]/div[2]/div[6]/div[2]/div[2]/label/i\")# absulute xpath\n",
    "#locfil_tags.send_keys('Delhi / NCR')\n",
    "#driver.find_element(By.XPATH, \"//input[@ng-model='datepicker.startDate']\").send_keys(\"01/01/2010\")\n",
    "#driver.findElement(By.xpath(\"//label[text()='Reading']\")).click();\n",
    "sal_filter.click()\n",
    "job_title=[]\n",
    "job_loc=[]\n",
    "comp_name=[]\n",
    "job_exp=[]\n",
    "title_tags=driver.find_elements(By.XPATH,'//a[@class=\"title ellipsis\"]')\n",
    "for i in title_tags[0:10]:\n",
    "    title=i.text\n",
    "    job_title.append(title)\n",
    "    \n",
    "job_title\n",
    "location_tags=driver.find_elements(By.XPATH,'//span[@class=\"ellipsis fleft locWdth\"]')\n",
    "for i in location_tags[0:10]:\n",
    "    location=i.text\n",
    "    job_loc.append(location)\n",
    "    \n",
    "job_loc\n",
    "company_tags=driver.find_elements(By.XPATH,'//a[@class=\"subTitle ellipsis fleft\"]')\n",
    "for i in company_tags[0:10]:\n",
    "    comp=i.text\n",
    "    comp_name.append(comp)\n",
    "    \n",
    "comp_name\n",
    "exp_tags=driver.find_elements(By.XPATH,'//span[@class=\"ellipsis fleft expwdth\"]')\n",
    "for i in exp_tags[0:10]:\n",
    "    expe=i.text\n",
    "    job_exp.append(expe)\n",
    "    \n",
    "job_exp\n",
    "print(len(job_title),len(job_loc),len(comp_name),len(job_exp))\n",
    "import pandas as pd\n",
    "df=pd.DataFrame({'Job_Name':job_title,'Job_Location':job_loc,'Company':comp_name,'Experience':job_exp})\n",
    "df\n"
   ]
  },
  {
   "cell_type": "code",
   "execution_count": null,
   "id": "56da4634",
   "metadata": {},
   "outputs": [],
   "source": [
    "#Q4: Scrape data of first 100 sunglasses listings on flipkart.com. You have to scrape four attributes:\n",
    "import selenium\n",
    "import pandas as pd\n",
    "from selenium import webdriver\n",
    "import warnings\n",
    "warnings.filterwarnings('ignore')\n",
    "from selenium.common.exceptions import StaleElementReferenceException,NoSuchElementException\n",
    "from selenium.webdriver.common.by import By\n",
    "import time\n",
    "driver=webdriver.Chrome(r\"chromedriver.exe\")\n",
    "driver.get(\"https://www.flipkart.com/\")\n",
    "item_name=driver.find_element(By.CLASS_NAME,\"_3704LK\")\n",
    "item_name.send_keys('sunglasses')\n",
    "search_tag=driver.find_element(By.CLASS_NAME,\"_34RNph\")\n",
    "search_tag.click()\n",
    " \n",
    "brand=[]\n",
    "start=0\n",
    "end=3\n",
    "for page in range(start,end):\n",
    "    items=driver.find_elements(By.XPATH,'//div[@class=\"_2WkVRV\"]')\n",
    "    for i in items:\n",
    "        brand.append(i.text)\n",
    "    NEXT_tag=driver.find_element(By.XPATH,'//a[@class=\"_1LKTO3\"]')\n",
    "    NEXT_tag.click()\n",
    "    time.sleep(3)\n",
    "#brand.clear()\n",
    "len(brand)\n",
    "120\n",
    "brand[0:101]# first 100 elements from list"
   ]
  },
  {
   "cell_type": "code",
   "execution_count": null,
   "id": "dfc36277",
   "metadata": {},
   "outputs": [],
   "source": [
    "product_desc=[]\n",
    "start=0\n",
    "end=3\n",
    "for page in range(start,end):\n",
    "    product=driver.find_elements(By.XPATH,'//a[@class=\"IRpwTa\"]')\n",
    "    for i in product:\n",
    "        product_desc.append(i.text)\n",
    "    NEXT_tag=driver.find_element(By.XPATH,'//a[@class=\"_1LKTO3\"]')\n",
    "    NEXT_tag.click()\n",
    "    time.sleep(3)\n",
    "#product_desc.clear()\n",
    "product_desc[0:101]"
   ]
  },
  {
   "cell_type": "code",
   "execution_count": null,
   "id": "22744184",
   "metadata": {},
   "outputs": [],
   "source": [
    "len(product_desc)\n"
   ]
  },
  {
   "cell_type": "code",
   "execution_count": null,
   "id": "1f736d98",
   "metadata": {},
   "outputs": [],
   "source": [
    "product_desc[0:101]\n"
   ]
  },
  {
   "cell_type": "code",
   "execution_count": null,
   "id": "f1368921",
   "metadata": {},
   "outputs": [],
   "source": [
    "product_price=[]\n"
   ]
  },
  {
   "cell_type": "code",
   "execution_count": null,
   "id": "a5d0fea3",
   "metadata": {},
   "outputs": [],
   "source": [
    "start=0\n",
    "end=3\n",
    "for page in range(start,end):\n",
    "    price=driver.find_elements(By.XPATH,'//div[@class=\"_30jeq3\"]')\n",
    "    for i in price:\n",
    "        product_price.append(i.text)\n",
    "    NEXT_tag=driver.find_element(By.XPATH,'//a[@class=\"_1LKTO3\"]')\n",
    "    NEXT_tag.click()\n",
    "    time.sleep(3)\n"
   ]
  },
  {
   "cell_type": "code",
   "execution_count": null,
   "id": "93e52e27",
   "metadata": {},
   "outputs": [],
   "source": [
    "product_price[0:101]\n"
   ]
  },
  {
   "cell_type": "code",
   "execution_count": null,
   "id": "13bbad44",
   "metadata": {},
   "outputs": [],
   "source": [
    "len(product_price)\n"
   ]
  },
  {
   "cell_type": "code",
   "execution_count": null,
   "id": "0acc4df8",
   "metadata": {},
   "outputs": [],
   "source": [
    "product_price.clear()\n"
   ]
  },
  {
   "cell_type": "code",
   "execution_count": null,
   "id": "52de560d",
   "metadata": {},
   "outputs": [],
   "source": [
    "product_price[0:101]\n"
   ]
  },
  {
   "cell_type": "code",
   "execution_count": null,
   "id": "8ebac74a",
   "metadata": {},
   "outputs": [],
   "source": [
    "#brand.clear()\n",
    "#product_desc.clear()\n",
    "#product_price.clear()\n"
   ]
  },
  {
   "cell_type": "code",
   "execution_count": null,
   "id": "4b756e98",
   "metadata": {},
   "outputs": [],
   "source": [
    "print(len(brand),len(product_desc),len(product_price))\n"
   ]
  },
  {
   "cell_type": "code",
   "execution_count": null,
   "id": "0d69538c",
   "metadata": {},
   "outputs": [],
   "source": [
    "import pandas as pd\n",
    "df=pd.DataFrame({'Brand_Name':brand[0:101],'Product_ Description':product_desc[0:101],'Price':product_price[0:101]})\n",
    "df\n"
   ]
  },
  {
   "cell_type": "code",
   "execution_count": null,
   "id": "32635f42",
   "metadata": {},
   "outputs": [],
   "source": [
    "#5. Q5: Scrape 100 reviews data from flipkart.com for iphone11 phone. You have to go the link:\n",
    "driver.get(\"https://www.flipkart.com/apple-iphone-11-black-64-gb/product-reviews/itm4e5041ba101fd?pid=MOBFWQ6BXGJCEYNY&lid=LSTMOBFWQ6BXGJCEYNYZXSHRJ&marketplace=FLIPKART\")\n"
   ]
  },
  {
   "cell_type": "code",
   "execution_count": null,
   "id": "cef6dfd4",
   "metadata": {},
   "outputs": [],
   "source": [
    "product_rated=[]\n"
   ]
  },
  {
   "cell_type": "code",
   "execution_count": null,
   "id": "341a1338",
   "metadata": {},
   "outputs": [],
   "source": [
    "start=0\n",
    "end=11\n",
    "for page in range(start,end):\n",
    "    rated=driver.find_elements(By.XPATH,'//div[@class=\"_3LWZlK _1BLPMq\"]')\n",
    "    for i in rated:\n",
    "        product_rated.append(i.text)\n",
    "    NEXT_tag=driver.find_element(By.XPATH,'//a[@class=\"_1LKTO3\"]')\n",
    "    NEXT_tag.click()\n",
    "    time.sleep(3)\n"
   ]
  },
  {
   "cell_type": "code",
   "execution_count": null,
   "id": "60ca89c3",
   "metadata": {},
   "outputs": [],
   "source": [
    "len(product_rated)#[0:99]\n"
   ]
  },
  {
   "cell_type": "code",
   "execution_count": null,
   "id": "cd24e329",
   "metadata": {},
   "outputs": [],
   "source": [
    "product_rated[0:99]\n"
   ]
  },
  {
   "cell_type": "code",
   "execution_count": null,
   "id": "7e66cee1",
   "metadata": {},
   "outputs": [],
   "source": [
    "review_sum=[]\n"
   ]
  },
  {
   "cell_type": "code",
   "execution_count": null,
   "id": "b5acd145",
   "metadata": {},
   "outputs": [],
   "source": [
    "start=0\n",
    "end=11\n",
    "for page in range(start,end):\n",
    "    review=driver.find_elements(By.XPATH,'//p[@class=\"_2-N8zT\"]')\n",
    "    for i in review:\n",
    "        review_sum.append(i.text)\n",
    "    NEXT_tag=driver.find_element(By.XPATH,'//a[@class=\"_1LKTO3\"]')\n",
    "    NEXT_tag.click()\n",
    "    time.sleep(3)\n"
   ]
  },
  {
   "cell_type": "code",
   "execution_count": null,
   "id": "3e630ec1",
   "metadata": {},
   "outputs": [],
   "source": [
    "len(review_sum)\n"
   ]
  },
  {
   "cell_type": "code",
   "execution_count": null,
   "id": "5fee850e",
   "metadata": {},
   "outputs": [],
   "source": [
    "review_sum"
   ]
  },
  {
   "cell_type": "code",
   "execution_count": null,
   "id": "3fdba799",
   "metadata": {},
   "outputs": [],
   "source": [
    "review_details=[]\n"
   ]
  },
  {
   "cell_type": "code",
   "execution_count": null,
   "id": "c69be434",
   "metadata": {},
   "outputs": [],
   "source": [
    "start=0\n",
    "end=12\n",
    "for page in range(start,end):\n",
    "    review_det=driver.find_elements(By.XPATH,'//span[@class=\"_1H-bmy\"]')\n",
    "    for i in review_det:\n",
    "        review_details.append(i.text)\n",
    "    NEXT_tag=driver.find_element(By.XPATH,'//a[@class=\"_1LKTO3\"]')\n",
    "    NEXT_tag.click()\n",
    "    time.sleep(3)\n"
   ]
  },
  {
   "cell_type": "code",
   "execution_count": null,
   "id": "bf1dcba8",
   "metadata": {},
   "outputs": [],
   "source": [
    "len(review_details)\n"
   ]
  },
  {
   "cell_type": "code",
   "execution_count": null,
   "id": "b7f5bc9e",
   "metadata": {},
   "outputs": [],
   "source": [
    "review_details\n"
   ]
  },
  {
   "cell_type": "code",
   "execution_count": null,
   "id": "960cd9b9",
   "metadata": {},
   "outputs": [],
   "source": [
    "#6. Scrape data for first 100 sneakers you find when you visit flipkart.com and search for “sneakers” in the search field.\n",
    "import selenium\n",
    "import pandas as pd\n",
    "from selenium import webdriver\n",
    "import warnings\n",
    "warnings.filterwarnings('ignore')\n",
    "from selenium.common.exceptions import StaleElementReferenceException,NoSuchElementException\n",
    "from selenium.webdriver.common.by import By\n",
    "import time\n"
   ]
  },
  {
   "cell_type": "code",
   "execution_count": null,
   "id": "8c80ae30",
   "metadata": {},
   "outputs": [],
   "source": [
    "driver=webdriver.Chrome(r\"chromedriver.exe\")\n"
   ]
  },
  {
   "cell_type": "code",
   "execution_count": null,
   "id": "8ed32fb1",
   "metadata": {},
   "outputs": [],
   "source": [
    "driver.get(\"https://www.flipkart.com/\")\n"
   ]
  },
  {
   "cell_type": "code",
   "execution_count": null,
   "id": "b9a69c91",
   "metadata": {},
   "outputs": [],
   "source": [
    "item_name=driver.find_element(By.CLASS_NAME,\"_3704LK\")\n",
    "item_name.send_keys('sneakers')\n"
   ]
  },
  {
   "cell_type": "code",
   "execution_count": null,
   "id": "f370c52a",
   "metadata": {},
   "outputs": [],
   "source": [
    "search_tag=driver.find_element(By.CLASS_NAME,\"_34RNph\")\n",
    "search_tag.click()\n"
   ]
  },
  {
   "cell_type": "code",
   "execution_count": null,
   "id": "a339d6cc",
   "metadata": {},
   "outputs": [],
   "source": [
    "pr_brand=[]\n"
   ]
  },
  {
   "cell_type": "code",
   "execution_count": null,
   "id": "7fb611b7",
   "metadata": {},
   "outputs": [],
   "source": [
    "start=0\n",
    "end=3\n",
    "for page in range(start,end):\n",
    "    brand=driver.find_elements(By.XPATH,'//div[@class=\"_2WkVRV\"]')\n",
    "    for i in brand:\n",
    "        pr_brand.append(i.text)\n",
    "    NEXT_tag=driver.find_element(By.XPATH,'//a[@class=\"_1LKTO3\"]')\n",
    "    NEXT_tag.click()\n",
    "    time.sleep(3)\n"
   ]
  },
  {
   "cell_type": "code",
   "execution_count": null,
   "id": "eb8a3ee9",
   "metadata": {},
   "outputs": [],
   "source": [
    "len(pr_brand)\n"
   ]
  },
  {
   "cell_type": "code",
   "execution_count": null,
   "id": "bd83139e",
   "metadata": {},
   "outputs": [],
   "source": [
    "pr_desc=[]\n"
   ]
  },
  {
   "cell_type": "code",
   "execution_count": null,
   "id": "10444b6e",
   "metadata": {},
   "outputs": [],
   "source": [
    "start=0\n",
    "end=3\n",
    "for page in range(start,end):\n",
    "    desc=driver.find_elements(By.XPATH,'//a[@class=\"IRpwTa\"]')\n",
    "    for i in desc:\n",
    "        pr_desc.append(i.text)\n",
    "    NEXT_tag=driver.find_element(By.XPATH,'//a[@class=\"_1LKTO3\"]')\n",
    "    NEXT_tag.click()\n",
    "    time.sleep(3)\n"
   ]
  },
  {
   "cell_type": "code",
   "execution_count": null,
   "id": "116d51e4",
   "metadata": {},
   "outputs": [],
   "source": [
    "len(pr_desc)\n"
   ]
  },
  {
   "cell_type": "code",
   "execution_count": null,
   "id": "8d9a939a",
   "metadata": {},
   "outputs": [],
   "source": [
    "price=[]\n"
   ]
  },
  {
   "cell_type": "code",
   "execution_count": null,
   "id": "d55ea84f",
   "metadata": {},
   "outputs": [],
   "source": [
    "start=0\n",
    "end=3\n",
    "for page in range(start,end):\n",
    "    pric=driver.find_elements(By.XPATH,'//div[@class=\"_30jeq3\"]')\n",
    "    for i in pric:\n",
    "        price.append(i.text)\n",
    "    NEXT_tag=driver.find_element(By.XPATH,'//a[@class=\"_1LKTO3\"]')\n",
    "    NEXT_tag.click()\n",
    "    time.sleep(3)\n"
   ]
  },
  {
   "cell_type": "code",
   "execution_count": null,
   "id": "edc28168",
   "metadata": {},
   "outputs": [],
   "source": [
    "len(price)\n"
   ]
  },
  {
   "cell_type": "code",
   "execution_count": null,
   "id": "a54a900b",
   "metadata": {},
   "outputs": [],
   "source": [
    "price"
   ]
  },
  {
   "cell_type": "code",
   "execution_count": null,
   "id": "9e8415d7",
   "metadata": {},
   "outputs": [],
   "source": [
    "import pandas as pd\n",
    "df=pd.DataFrame({'Brand_Name':pr_brand[0:39],'Product_ Description':pr_desc[0:39],'Price':price[0:39]})\n",
    "df\n"
   ]
  },
  {
   "cell_type": "code",
   "execution_count": null,
   "id": "d9b34c2a",
   "metadata": {},
   "outputs": [],
   "source": [
    "#Q7: Go to webpage https://www.amazon.in/ Enter “Laptop” in the search field and then click the search icon. \n",
    "#Then set CPU Type filter to “Intel Core i7” as shown in the below image:\n"
   ]
  },
  {
   "cell_type": "code",
   "execution_count": null,
   "id": "f7c89c37",
   "metadata": {},
   "outputs": [],
   "source": [
    "import selenium\n",
    "import pandas as pd\n",
    "from selenium import webdriver\n",
    "import warnings\n",
    "warnings.filterwarnings('ignore')\n",
    "from selenium.common.exceptions import StaleElementReferenceException,NoSuchElementException\n",
    "from selenium.webdriver.common.by import By\n",
    "import time\n"
   ]
  },
  {
   "cell_type": "code",
   "execution_count": null,
   "id": "06cf8938",
   "metadata": {},
   "outputs": [],
   "source": [
    "driver=webdriver.Chrome(r\"chromedriver.exe\")\n"
   ]
  },
  {
   "cell_type": "code",
   "execution_count": null,
   "id": "6b1cadda",
   "metadata": {},
   "outputs": [],
   "source": [
    "driver.get(\"https://www.amazon.in/\")\n"
   ]
  },
  {
   "cell_type": "code",
   "execution_count": null,
   "id": "19df5967",
   "metadata": {},
   "outputs": [],
   "source": [
    "item_name=driver.find_element(By.XPATH,\"/html/body/div[1]/header/div/div[1]/div[2]/div/form/div[2]/div[1]/input\")\n",
    "item_name.send_keys('Laptop')\n"
   ]
  },
  {
   "cell_type": "code",
   "execution_count": null,
   "id": "83c3e80f",
   "metadata": {},
   "outputs": [],
   "source": [
    "search_tag=driver.find_element(By.XPATH,\"/html/body/div[1]/header/div/div[1]/div[2]/div/form/div[3]/div/span/input\")\n",
    "search_tag.click()\n"
   ]
  },
  {
   "cell_type": "code",
   "execution_count": null,
   "id": "135988f8",
   "metadata": {},
   "outputs": [],
   "source": [
    "cpu_filter=driver.find_element(By.XPATH,\"/html/body/div[1]/div[2]/div[1]/div[2]/div/div[3]/span/div[1]/div/div/div[5]/ul[2]/li[12]/span/a/div/label/i\")\n",
    "#locfil_tags.send_keys('Delhi / NCR')\n",
    "#driver.find_element(By.XPATH, \"//input[@ng-model='datepicker.startDate']\").send_keys(\"01/01/2010\")\n",
    "#driver.findElement(By.xpath(\"//label[text()='Reading']\")).click();\n",
    "cpu_filter.click()\n"
   ]
  },
  {
   "cell_type": "code",
   "execution_count": null,
   "id": "13eebcf7",
   "metadata": {},
   "outputs": [],
   "source": [
    "title=[]\n"
   ]
  },
  {
   "cell_type": "code",
   "execution_count": null,
   "id": "fca6ada3",
   "metadata": {},
   "outputs": [],
   "source": [
    "title_tags=driver.find_elements(By.XPATH,'//span[@class=\"a-size-medium a-color-base a-text-normal\"]')\n",
    "for i in title_tags[0:10]:\n",
    "    tit=i.text\n",
    "    title.append(tit)\n"
   ]
  },
  {
   "cell_type": "code",
   "execution_count": null,
   "id": "b48e041c",
   "metadata": {},
   "outputs": [],
   "source": [
    "title\n"
   ]
  },
  {
   "cell_type": "code",
   "execution_count": null,
   "id": "ea23b82b",
   "metadata": {},
   "outputs": [],
   "source": [
    "rating=[]\n"
   ]
  },
  {
   "cell_type": "code",
   "execution_count": null,
   "id": "47d8a4b5",
   "metadata": {},
   "outputs": [],
   "source": [
    "rating_tags=driver.find_elements(By.XPATH,'//span[@class=\"a-size-base\"]')\n",
    "for i in rating_tags[0:10]:\n",
    "    rat=i.text\n",
    "    rating.append(rat)\n"
   ]
  },
  {
   "cell_type": "code",
   "execution_count": null,
   "id": "b0b54149",
   "metadata": {},
   "outputs": [],
   "source": [
    "rating\n"
   ]
  },
  {
   "cell_type": "code",
   "execution_count": null,
   "id": "bb162c0a",
   "metadata": {},
   "outputs": [],
   "source": [
    "price=[]\n"
   ]
  },
  {
   "cell_type": "code",
   "execution_count": null,
   "id": "dbf4575e",
   "metadata": {},
   "outputs": [],
   "source": [
    "price_tag=driver.find_elements(By.XPATH,'//span[@class=\"a-price-whole\"]')\n",
    "for i in price_tag[0:10]:\n",
    "    price.append(i.text)\n"
   ]
  },
  {
   "cell_type": "code",
   "execution_count": null,
   "id": "97363bbc",
   "metadata": {},
   "outputs": [],
   "source": [
    "price"
   ]
  },
  {
   "cell_type": "code",
   "execution_count": null,
   "id": "0590488a",
   "metadata": {},
   "outputs": [],
   "source": [
    "import pandas as pd\n",
    "df=pd.DataFrame({'Title':title[0:10],'Rating':rating[0:10],'Price':price[0:10]})\n",
    "df\n"
   ]
  },
  {
   "cell_type": "code",
   "execution_count": null,
   "id": "056efc7d",
   "metadata": {},
   "outputs": [],
   "source": [
    "# Q.8) Write a python program to scrape data for Top 1000 Quotes of All Time. The above task will be done in following steps:\n"
   ]
  },
  {
   "cell_type": "code",
   "execution_count": null,
   "id": "6562cfe5",
   "metadata": {},
   "outputs": [],
   "source": [
    "import selenium\n",
    "import pandas as pd\n",
    "from selenium import webdriver\n",
    "import warnings\n",
    "warnings.filterwarnings('ignore')\n",
    "from selenium.common.exceptions import StaleElementReferenceException,NoSuchElementException\n",
    "from selenium.webdriver.common.by import By\n",
    "import time\n"
   ]
  },
  {
   "cell_type": "code",
   "execution_count": null,
   "id": "b0ad6a2b",
   "metadata": {},
   "outputs": [],
   "source": [
    "driver=webdriver.Chrome(r\"chromedriver.exe\")\n"
   ]
  },
  {
   "cell_type": "code",
   "execution_count": null,
   "id": "3d23b075",
   "metadata": {},
   "outputs": [],
   "source": [
    "driver.get(\"https://www.azquotes.com/\")\n"
   ]
  },
  {
   "cell_type": "code",
   "execution_count": null,
   "id": "4a04a9a9",
   "metadata": {},
   "outputs": [],
   "source": [
    "top_quote=driver.find_element(By.XPATH,\"/html/body/div[1]/div[1]/div[1]/div/div[3]/ul/li[5]/a\")\n",
    "top_quote.click()\n"
   ]
  },
  {
   "cell_type": "code",
   "execution_count": null,
   "id": "2b8b0a0a",
   "metadata": {},
   "outputs": [],
   "source": [
    "quote=[]\n"
   ]
  },
  {
   "cell_type": "code",
   "execution_count": null,
   "id": "cdee300f",
   "metadata": {},
   "outputs": [],
   "source": [
    "start=0\n",
    "end=2\n",
    "for page in range(start,end):\n",
    "    quot=driver.find_elements(By.XPATH,'//a[@class=\"title\"]')\n",
    "    for i in quot:\n",
    "        quote.append(i.text)\n",
    "    NEXT_tag=driver.find_element(By.XPATH,'/html/body/div[1]/div[2]/div/div/div/div[1]/div/div[3]/li[12]/a')\n",
    "    NEXT_tag.click()\n",
    "    time.sleep(3)\n"
   ]
  },
  {
   "cell_type": "code",
   "execution_count": null,
   "id": "a3b2439c",
   "metadata": {},
   "outputs": [],
   "source": [
    "len(quote)\n"
   ]
  },
  {
   "cell_type": "code",
   "execution_count": null,
   "id": "2ce84ed0",
   "metadata": {},
   "outputs": [],
   "source": [
    "author=[]\n"
   ]
  },
  {
   "cell_type": "code",
   "execution_count": null,
   "id": "0e7512dd",
   "metadata": {},
   "outputs": [],
   "source": [
    "start=0\n",
    "end=2\n",
    "for page in range(start,end):\n",
    "    auth=driver.find_elements(By.XPATH,'//div[@class=\"author\"]')\n",
    "    for i in auth:\n",
    "        author.append(i.text)\n",
    "    NEXT_tag=driver.find_element(By.XPATH,'/html/body/div[1]/div[2]/div/div/div/div[1]/div/div[3]/li[12]/a')\n",
    "    NEXT_tag.click()\n",
    "    time.sleep(3)\n"
   ]
  },
  {
   "cell_type": "code",
   "execution_count": null,
   "id": "f6e474ad",
   "metadata": {},
   "outputs": [],
   "source": [
    "len(author)\n"
   ]
  },
  {
   "cell_type": "code",
   "execution_count": null,
   "id": "66d7ba2b",
   "metadata": {},
   "outputs": [],
   "source": [
    "type_of_quote=[]\n"
   ]
  },
  {
   "cell_type": "code",
   "execution_count": null,
   "id": "3925f5d3",
   "metadata": {},
   "outputs": [],
   "source": [
    "start=0\n",
    "end=2\n",
    "for page in range(start,end):\n",
    "    type_of=driver.find_elements(By.XPATH,'//div[@class=\"tags\"]')\n",
    "    for i in type_of:\n",
    "        type_of_quote.append(i.text)\n",
    "    NEXT_tag=driver.find_element(By.XPATH,'/html/body/div[1]/div[2]/div/div/div/div[1]/div/div[3]/li[12]/a')\n",
    "    NEXT_tag.click()\n",
    "    time.sleep(3)\n"
   ]
  },
  {
   "cell_type": "code",
   "execution_count": null,
   "id": "2411ae51",
   "metadata": {},
   "outputs": [],
   "source": [
    "len(type_of_quote)\n"
   ]
  },
  {
   "cell_type": "code",
   "execution_count": null,
   "id": "d31868ca",
   "metadata": {},
   "outputs": [],
   "source": [
    "NEXT_tag=driver.find_element(By.XPATH,'/html/body/div[1]/div[2]/div/div/div/div[1]/div/div[3]/li[12]/a')\n",
    "NEXT_tag.click()\n"
   ]
  },
  {
   "cell_type": "code",
   "execution_count": null,
   "id": "5dfb73e4",
   "metadata": {},
   "outputs": [],
   "source": [
    "import pandas as pd\n",
    "df=pd.DataFrame({'Quote':quote[0:100],'Author':author[0:100],'Type of qupte':type_of_quote[0:100]})\n",
    "df\n"
   ]
  },
  {
   "cell_type": "code",
   "execution_count": null,
   "id": "6afce2b7",
   "metadata": {},
   "outputs": [],
   "source": [
    "#Qno 9)Write a python program to display list of respected former Prime Ministers of India(i.e. Name, Born-Dead,\n",
    "#Term of office, Remarks) from https://www.jagranjosh.com/.\n"
   ]
  },
  {
   "cell_type": "code",
   "execution_count": null,
   "id": "6963b0ae",
   "metadata": {},
   "outputs": [],
   "source": [
    "import selenium\n",
    "import pandas as pd\n",
    "from selenium import webdriver\n",
    "import warnings\n",
    "warnings.filterwarnings('ignore')\n",
    "from selenium.common.exceptions import StaleElementReferenceException,NoSuchElementException\n",
    "from selenium.webdriver.common.by import By\n",
    "import time\n",
    "driver=webdriver.Chrome(r\"chromedriver.exe\")\n",
    "driver.get(\"https://www.jagranjosh.com/\")\n",
    "gk=driver.find_element(By.XPATH,\"/html/body/div/div[1]/div/div[1]/div/div[6]/div/div[1]/header/div[3]/ul/li[9]/a\")\n",
    "gk.click()\n",
    "list_of_pri=driver.find_element(By.XPATH,\"/html/body/div[1]/div/div/div[2]/div/div[10]/div/div/ul/li[2]/a\")\n",
    "list_of_pri.click()\n",
    "pm_list=[]\n",
    "pm=driver.find_elements(By.XPATH,'//div[@class=\"table-box\"]/table/tbody/tr/td[2]/p')\n",
    "for i in pm:\n",
    "    pm_list.append(i.text)\n",
    "pm_list\n"
   ]
  },
  {
   "cell_type": "code",
   "execution_count": null,
   "id": "7ae0b16d",
   "metadata": {},
   "outputs": [],
   "source": [
    "duration=[]\n",
    "dure=driver.find_elements(By.XPATH,'//div[@class=\"table-box\"]/table/tbody/tr/td[4]/p')\n",
    "for i in dure:\n",
    "    duration.append(i.text)\n",
    "duration[::2] #to get specific index items list"
   ]
  },
  {
   "cell_type": "code",
   "execution_count": null,
   "id": "129e7698",
   "metadata": {},
   "outputs": [],
   "source": [
    "len(duration[::2])\n"
   ]
  },
  {
   "cell_type": "code",
   "execution_count": null,
   "id": "74bb6dd4",
   "metadata": {},
   "outputs": [],
   "source": [
    "born_dead=[]\n",
    "born=driver.find_elements(By.XPATH,'//div[@class=\"table-box\"]/table/tbody/tr/td[3]/p')\n",
    "for i in born:\n",
    "    born_dead.append(i.text)\n",
    "born_dead"
   ]
  },
  {
   "cell_type": "code",
   "execution_count": null,
   "id": "bf1c1a75",
   "metadata": {},
   "outputs": [],
   "source": [
    "len(born_dead)\n",
    "remark=[]\n"
   ]
  },
  {
   "cell_type": "code",
   "execution_count": null,
   "id": "7c2eb601",
   "metadata": {},
   "outputs": [],
   "source": [
    "rem=driver.find_elements(By.XPATH,'//div[@class=\"table-box\"]/table/tbody/tr/td[5]/p')\n",
    "for i in rem:\n",
    "    remark.append(i.text)\n",
    "remark\n",
    "len(remark)\n"
   ]
  },
  {
   "cell_type": "code",
   "execution_count": null,
   "id": "cfc3d1f1",
   "metadata": {},
   "outputs": [],
   "source": [
    "import pandas as pd\n",
    "df=pd.DataFrame({'Name_of_PM': pm_list,'Born_dead':born_dead,'Term of Office':duration[::2],'Remarks':remark})\n",
    "df\n"
   ]
  },
  {
   "cell_type": "code",
   "execution_count": null,
   "id": "c3d59429",
   "metadata": {},
   "outputs": [],
   "source": [
    "# Q.No-10 .Write a python program to display list of 50 Most expensive cars in the world (i.e.\n",
    "#Car name and Price) from https://www.motor1.com/\n",
    "import selenium\n",
    "import pandas as pd\n",
    "from selenium import webdriver\n",
    "import warnings\n",
    "warnings.filterwarnings('ignore')\n",
    "from selenium.common.exceptions import StaleElementReferenceException,NoSuchElementException\n",
    "from selenium.webdriver.common.by import By\n",
    "import time\n",
    "driver=webdriver.Chrome(r\"chromedriver.exe\")\n",
    "driver.get(\"https://www.motor1.com/\")\n",
    "search_tag=driver.find_element(By.XPATH,\"/html/body/div[3]/div[2]/div/div/div[1]/div\")\n",
    "search_tag.click()\n",
    "feature_tag=driver.find_element(By.XPATH,\"/html/body/div[4]/div[1]/div[3]/ul/li[5]/a\")\n",
    "feature_tag.click()\n",
    "car_tag=driver.find_element(By.XPATH,\"/html/body/div[3]/div[7]/div/div[1]/div[1]/div[2]/div/div[1]/h3/a\")\n",
    "car_tag.click()\n",
    "top_car_list=[]\n",
    "top_car=driver.find_elements(By.XPATH,'//h3[@class=\"subheader\"]')\n",
    "for i in top_car:\n",
    "    top_car_list.append(i.text)\n",
    "    \n",
    "top_car_list[0:50]\n"
   ]
  },
  {
   "cell_type": "code",
   "execution_count": null,
   "id": "c2e64b58",
   "metadata": {},
   "outputs": [],
   "source": [
    "car_price=[]\n"
   ]
  },
  {
   "cell_type": "code",
   "execution_count": null,
   "id": "030f9ded",
   "metadata": {},
   "outputs": [],
   "source": [
    "car_pr=driver.find_elements(By.XPATH,\"//strong\")\n",
    "for i in car_pr:\n",
    "    car_price.append(i.text)\n",
    "len(car_price)\n"
   ]
  },
  {
   "cell_type": "code",
   "execution_count": null,
   "id": "6f15aa0b",
   "metadata": {},
   "outputs": [],
   "source": [
    "import pandas as pd\n",
    "df=pd.DataFrame({'Name of Top_Exp_car':top_car_list[0:50],'Price':car_price[0:50]})\n",
    "df\n"
   ]
  },
  {
   "cell_type": "code",
   "execution_count": null,
   "id": "aefd5c74",
   "metadata": {},
   "outputs": [],
   "source": []
  },
  {
   "cell_type": "code",
   "execution_count": null,
   "id": "5fb37db2",
   "metadata": {},
   "outputs": [],
   "source": []
  },
  {
   "cell_type": "code",
   "execution_count": null,
   "id": "2bdaeda0",
   "metadata": {},
   "outputs": [],
   "source": []
  },
  {
   "cell_type": "code",
   "execution_count": null,
   "id": "b2e0b2a9",
   "metadata": {},
   "outputs": [],
   "source": []
  },
  {
   "cell_type": "code",
   "execution_count": null,
   "id": "61a6d672",
   "metadata": {},
   "outputs": [],
   "source": []
  },
  {
   "cell_type": "code",
   "execution_count": null,
   "id": "3335227d",
   "metadata": {},
   "outputs": [],
   "source": []
  },
  {
   "cell_type": "code",
   "execution_count": null,
   "id": "37658a2e",
   "metadata": {},
   "outputs": [],
   "source": []
  },
  {
   "cell_type": "code",
   "execution_count": null,
   "id": "03c423fd",
   "metadata": {},
   "outputs": [],
   "source": []
  },
  {
   "cell_type": "code",
   "execution_count": null,
   "id": "d94433a5",
   "metadata": {},
   "outputs": [],
   "source": []
  },
  {
   "cell_type": "code",
   "execution_count": null,
   "id": "ee031330",
   "metadata": {},
   "outputs": [],
   "source": []
  }
 ],
 "metadata": {
  "kernelspec": {
   "display_name": "Python 3 (ipykernel)",
   "language": "python",
   "name": "python3"
  },
  "language_info": {
   "codemirror_mode": {
    "name": "ipython",
    "version": 3
   },
   "file_extension": ".py",
   "mimetype": "text/x-python",
   "name": "python",
   "nbconvert_exporter": "python",
   "pygments_lexer": "ipython3",
   "version": "3.9.13"
  }
 },
 "nbformat": 4,
 "nbformat_minor": 5
}
